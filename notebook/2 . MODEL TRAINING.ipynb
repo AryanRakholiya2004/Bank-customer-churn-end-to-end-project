{
 "cells": [
  {
   "cell_type": "markdown",
   "metadata": {},
   "source": [
    "# Model Training\n",
    "\n",
    "Importing neccessari libraries"
   ]
  },
  {
   "cell_type": "code",
   "execution_count": 1,
   "metadata": {},
   "outputs": [],
   "source": [
    "import pandas as pd\n",
    "import numpy as np"
   ]
  },
  {
   "cell_type": "markdown",
   "metadata": {},
   "source": [
    "Previewing Data"
   ]
  },
  {
   "cell_type": "code",
   "execution_count": 2,
   "metadata": {},
   "outputs": [
    {
     "data": {
      "text/html": [
       "<div>\n",
       "<style scoped>\n",
       "    .dataframe tbody tr th:only-of-type {\n",
       "        vertical-align: middle;\n",
       "    }\n",
       "\n",
       "    .dataframe tbody tr th {\n",
       "        vertical-align: top;\n",
       "    }\n",
       "\n",
       "    .dataframe thead th {\n",
       "        text-align: right;\n",
       "    }\n",
       "</style>\n",
       "<table border=\"1\" class=\"dataframe\">\n",
       "  <thead>\n",
       "    <tr style=\"text-align: right;\">\n",
       "      <th></th>\n",
       "      <th>CustomerId</th>\n",
       "      <th>Surname</th>\n",
       "      <th>CreditScore</th>\n",
       "      <th>Geography</th>\n",
       "      <th>Gender</th>\n",
       "      <th>Age</th>\n",
       "      <th>Tenure</th>\n",
       "      <th>Balance</th>\n",
       "      <th>NumOfProducts</th>\n",
       "      <th>HasCrCard</th>\n",
       "      <th>isActiveMember</th>\n",
       "      <th>EstimatedSalary</th>\n",
       "      <th>Exited</th>\n",
       "    </tr>\n",
       "  </thead>\n",
       "  <tbody>\n",
       "    <tr>\n",
       "      <th>0</th>\n",
       "      <td>15565701</td>\n",
       "      <td>Ferri</td>\n",
       "      <td>698</td>\n",
       "      <td>Spain</td>\n",
       "      <td>Female</td>\n",
       "      <td>39</td>\n",
       "      <td>9</td>\n",
       "      <td>161994</td>\n",
       "      <td>1</td>\n",
       "      <td>0</td>\n",
       "      <td>0</td>\n",
       "      <td>90212</td>\n",
       "      <td>0</td>\n",
       "    </tr>\n",
       "    <tr>\n",
       "      <th>1</th>\n",
       "      <td>15565706</td>\n",
       "      <td>Akobundu</td>\n",
       "      <td>612</td>\n",
       "      <td>Spain</td>\n",
       "      <td>Male</td>\n",
       "      <td>35</td>\n",
       "      <td>1</td>\n",
       "      <td>0</td>\n",
       "      <td>1</td>\n",
       "      <td>1</td>\n",
       "      <td>1</td>\n",
       "      <td>83256</td>\n",
       "      <td>1</td>\n",
       "    </tr>\n",
       "    <tr>\n",
       "      <th>2</th>\n",
       "      <td>15565714</td>\n",
       "      <td>Cattaneo</td>\n",
       "      <td>601</td>\n",
       "      <td>France</td>\n",
       "      <td>Male</td>\n",
       "      <td>47</td>\n",
       "      <td>1</td>\n",
       "      <td>64430</td>\n",
       "      <td>2</td>\n",
       "      <td>0</td>\n",
       "      <td>1</td>\n",
       "      <td>96518</td>\n",
       "      <td>0</td>\n",
       "    </tr>\n",
       "    <tr>\n",
       "      <th>3</th>\n",
       "      <td>15565779</td>\n",
       "      <td>Kent</td>\n",
       "      <td>627</td>\n",
       "      <td>Germany</td>\n",
       "      <td>Female</td>\n",
       "      <td>30</td>\n",
       "      <td>6</td>\n",
       "      <td>57809</td>\n",
       "      <td>1</td>\n",
       "      <td>1</td>\n",
       "      <td>0</td>\n",
       "      <td>188258</td>\n",
       "      <td>0</td>\n",
       "    </tr>\n",
       "    <tr>\n",
       "      <th>4</th>\n",
       "      <td>15565796</td>\n",
       "      <td>Docherty</td>\n",
       "      <td>745</td>\n",
       "      <td>Germany</td>\n",
       "      <td>Male</td>\n",
       "      <td>48</td>\n",
       "      <td>10</td>\n",
       "      <td>96049</td>\n",
       "      <td>1</td>\n",
       "      <td>1</td>\n",
       "      <td>0</td>\n",
       "      <td>74511</td>\n",
       "      <td>0</td>\n",
       "    </tr>\n",
       "  </tbody>\n",
       "</table>\n",
       "</div>"
      ],
      "text/plain": [
       "   CustomerId   Surname  CreditScore Geography  Gender  Age  Tenure  Balance  \\\n",
       "0    15565701     Ferri          698     Spain  Female   39       9   161994   \n",
       "1    15565706  Akobundu          612     Spain    Male   35       1        0   \n",
       "2    15565714  Cattaneo          601    France    Male   47       1    64430   \n",
       "3    15565779      Kent          627   Germany  Female   30       6    57809   \n",
       "4    15565796  Docherty          745   Germany    Male   48      10    96049   \n",
       "\n",
       "   NumOfProducts  HasCrCard  isActiveMember  EstimatedSalary  Exited  \n",
       "0              1          0               0            90212       0  \n",
       "1              1          1               1            83256       1  \n",
       "2              2          0               1            96518       0  \n",
       "3              1          1               0           188258       0  \n",
       "4              1          1               0            74511       0  "
      ]
     },
     "execution_count": 2,
     "metadata": {},
     "output_type": "execute_result"
    }
   ],
   "source": [
    "df = pd.read_csv('data/raw.csv')\n",
    "df.head(5)"
   ]
  },
  {
   "cell_type": "markdown",
   "metadata": {},
   "source": [
    "# 1. Data Pre-Processing"
   ]
  },
  {
   "cell_type": "markdown",
   "metadata": {},
   "source": [
    "## 1.1 Preparing X and Y variables"
   ]
  },
  {
   "cell_type": "code",
   "execution_count": 3,
   "metadata": {},
   "outputs": [
    {
     "data": {
      "text/plain": [
       "((10000, 10), (10000,))"
      ]
     },
     "execution_count": 3,
     "metadata": {},
     "output_type": "execute_result"
    }
   ],
   "source": [
    "X = df.drop(columns=['CustomerId','Surname','Exited'])\n",
    "y = df['Exited']\n",
    "X.shape, y.shape"
   ]
  },
  {
   "cell_type": "code",
   "execution_count": 4,
   "metadata": {},
   "outputs": [
    {
     "data": {
      "text/html": [
       "<div>\n",
       "<style scoped>\n",
       "    .dataframe tbody tr th:only-of-type {\n",
       "        vertical-align: middle;\n",
       "    }\n",
       "\n",
       "    .dataframe tbody tr th {\n",
       "        vertical-align: top;\n",
       "    }\n",
       "\n",
       "    .dataframe thead th {\n",
       "        text-align: right;\n",
       "    }\n",
       "</style>\n",
       "<table border=\"1\" class=\"dataframe\">\n",
       "  <thead>\n",
       "    <tr style=\"text-align: right;\">\n",
       "      <th></th>\n",
       "      <th>CreditScore</th>\n",
       "      <th>Geography</th>\n",
       "      <th>Gender</th>\n",
       "      <th>Age</th>\n",
       "      <th>Tenure</th>\n",
       "      <th>Balance</th>\n",
       "      <th>NumOfProducts</th>\n",
       "      <th>HasCrCard</th>\n",
       "      <th>isActiveMember</th>\n",
       "      <th>EstimatedSalary</th>\n",
       "    </tr>\n",
       "  </thead>\n",
       "  <tbody>\n",
       "    <tr>\n",
       "      <th>0</th>\n",
       "      <td>698</td>\n",
       "      <td>Spain</td>\n",
       "      <td>Female</td>\n",
       "      <td>39</td>\n",
       "      <td>9</td>\n",
       "      <td>161994</td>\n",
       "      <td>1</td>\n",
       "      <td>0</td>\n",
       "      <td>0</td>\n",
       "      <td>90212</td>\n",
       "    </tr>\n",
       "    <tr>\n",
       "      <th>1</th>\n",
       "      <td>612</td>\n",
       "      <td>Spain</td>\n",
       "      <td>Male</td>\n",
       "      <td>35</td>\n",
       "      <td>1</td>\n",
       "      <td>0</td>\n",
       "      <td>1</td>\n",
       "      <td>1</td>\n",
       "      <td>1</td>\n",
       "      <td>83256</td>\n",
       "    </tr>\n",
       "    <tr>\n",
       "      <th>2</th>\n",
       "      <td>601</td>\n",
       "      <td>France</td>\n",
       "      <td>Male</td>\n",
       "      <td>47</td>\n",
       "      <td>1</td>\n",
       "      <td>64430</td>\n",
       "      <td>2</td>\n",
       "      <td>0</td>\n",
       "      <td>1</td>\n",
       "      <td>96518</td>\n",
       "    </tr>\n",
       "    <tr>\n",
       "      <th>3</th>\n",
       "      <td>627</td>\n",
       "      <td>Germany</td>\n",
       "      <td>Female</td>\n",
       "      <td>30</td>\n",
       "      <td>6</td>\n",
       "      <td>57809</td>\n",
       "      <td>1</td>\n",
       "      <td>1</td>\n",
       "      <td>0</td>\n",
       "      <td>188258</td>\n",
       "    </tr>\n",
       "    <tr>\n",
       "      <th>4</th>\n",
       "      <td>745</td>\n",
       "      <td>Germany</td>\n",
       "      <td>Male</td>\n",
       "      <td>48</td>\n",
       "      <td>10</td>\n",
       "      <td>96049</td>\n",
       "      <td>1</td>\n",
       "      <td>1</td>\n",
       "      <td>0</td>\n",
       "      <td>74511</td>\n",
       "    </tr>\n",
       "  </tbody>\n",
       "</table>\n",
       "</div>"
      ],
      "text/plain": [
       "   CreditScore Geography  Gender  Age  Tenure  Balance  NumOfProducts  \\\n",
       "0          698     Spain  Female   39       9   161994              1   \n",
       "1          612     Spain    Male   35       1        0              1   \n",
       "2          601    France    Male   47       1    64430              2   \n",
       "3          627   Germany  Female   30       6    57809              1   \n",
       "4          745   Germany    Male   48      10    96049              1   \n",
       "\n",
       "   HasCrCard  isActiveMember  EstimatedSalary  \n",
       "0          0               0            90212  \n",
       "1          1               1            83256  \n",
       "2          0               1            96518  \n",
       "3          1               0           188258  \n",
       "4          1               0            74511  "
      ]
     },
     "execution_count": 4,
     "metadata": {},
     "output_type": "execute_result"
    }
   ],
   "source": [
    "X.head(5)"
   ]
  },
  {
   "cell_type": "code",
   "execution_count": 5,
   "metadata": {},
   "outputs": [
    {
     "data": {
      "text/plain": [
       "0       0\n",
       "1       1\n",
       "2       0\n",
       "3       0\n",
       "4       0\n",
       "       ..\n",
       "9995    0\n",
       "9996    0\n",
       "9997    1\n",
       "9998    0\n",
       "9999    0\n",
       "Name: Exited, Length: 10000, dtype: int64"
      ]
     },
     "execution_count": 5,
     "metadata": {},
     "output_type": "execute_result"
    }
   ],
   "source": [
    "y"
   ]
  },
  {
   "cell_type": "markdown",
   "metadata": {},
   "source": [
    "## 1.2 Splitting Numeric and Categorical columns"
   ]
  },
  {
   "cell_type": "code",
   "execution_count": 6,
   "metadata": {},
   "outputs": [
    {
     "name": "stdout",
     "output_type": "stream",
     "text": [
      "['CreditScore', 'Age', 'Tenure', 'Balance', 'NumOfProducts', 'HasCrCard', 'isActiveMember', 'EstimatedSalary']\n",
      "['Geography', 'Gender']\n"
     ]
    }
   ],
   "source": [
    "num_cols = X.select_dtypes(include=[np.number]).columns.tolist()\n",
    "print(num_cols)\n",
    "cat_cols = X.select_dtypes(exclude=[np.number]).columns.tolist()\n",
    "print(cat_cols)"
   ]
  },
  {
   "cell_type": "markdown",
   "metadata": {},
   "source": [
    "## 1.3 Transforming and Scalling Data"
   ]
  },
  {
   "cell_type": "code",
   "execution_count": 7,
   "metadata": {},
   "outputs": [],
   "source": [
    "from sklearn.preprocessing import StandardScaler, OneHotEncoder\n",
    "from sklearn.compose import ColumnTransformer"
   ]
  },
  {
   "cell_type": "code",
   "execution_count": 8,
   "metadata": {},
   "outputs": [],
   "source": [
    "numerical_transformer = StandardScaler()\n",
    "categorical_transformer = OneHotEncoder(handle_unknown='ignore')"
   ]
  },
  {
   "cell_type": "code",
   "execution_count": 9,
   "metadata": {},
   "outputs": [],
   "source": [
    "preprocessor = ColumnTransformer(\n",
    "    [\n",
    "        ('num', numerical_transformer, num_cols),\n",
    "        ('cat', categorical_transformer, cat_cols)\n",
    "    ]\n",
    ")"
   ]
  },
  {
   "cell_type": "code",
   "execution_count": 10,
   "metadata": {},
   "outputs": [
    {
     "data": {
      "text/plain": [
       "(10000, 13)"
      ]
     },
     "execution_count": 10,
     "metadata": {},
     "output_type": "execute_result"
    }
   ],
   "source": [
    "X = preprocessor.fit_transform(X)\n",
    "X.shape"
   ]
  },
  {
   "cell_type": "markdown",
   "metadata": {},
   "source": [
    "## 1.4 Splitting Data into Training and Testing set"
   ]
  },
  {
   "cell_type": "code",
   "execution_count": 11,
   "metadata": {},
   "outputs": [],
   "source": [
    "from sklearn.model_selection import train_test_split"
   ]
  },
  {
   "cell_type": "code",
   "execution_count": 12,
   "metadata": {},
   "outputs": [
    {
     "data": {
      "text/plain": [
       "((8000, 13), (2000, 13), (8000,), (2000,))"
      ]
     },
     "execution_count": 12,
     "metadata": {},
     "output_type": "execute_result"
    }
   ],
   "source": [
    "X_train, X_test, y_train, y_test = train_test_split(X, y, test_size=0.2, random_state=42)\n",
    "X_train.shape, X_test.shape, y_train.shape, y_test.shape"
   ]
  },
  {
   "cell_type": "markdown",
   "metadata": {},
   "source": [
    "# 2 Model Training"
   ]
  },
  {
   "cell_type": "markdown",
   "metadata": {},
   "source": [
    "## 2.1 Training Varius corresponding models"
   ]
  },
  {
   "cell_type": "code",
   "execution_count": 13,
   "metadata": {},
   "outputs": [],
   "source": [
    "from sklearn.metrics import classification_report, confusion_matrix, accuracy_score"
   ]
  },
  {
   "cell_type": "code",
   "execution_count": 14,
   "metadata": {},
   "outputs": [],
   "source": [
    "def evaluate_model(true, predicted):\n",
    "    cr = classification_report(true, predicted)\n",
    "    cm = confusion_matrix(true, predicted)\n",
    "    acc = accuracy_score(true, predicted)\n",
    "    return cr, cm, acc"
   ]
  },
  {
   "cell_type": "code",
   "execution_count": 15,
   "metadata": {},
   "outputs": [],
   "source": [
    "from sklearn.ensemble import RandomForestClassifier, GradientBoostingClassifier\n",
    "from sklearn.linear_model import LogisticRegression\n",
    "from sklearn.tree import DecisionTreeClassifier\n",
    "from xgboost import XGBClassifier\n",
    "from catboost import CatBoostClassifier\n",
    "from lightgbm import LGBMClassifier"
   ]
  },
  {
   "cell_type": "code",
   "execution_count": 16,
   "metadata": {},
   "outputs": [],
   "source": [
    "models = {\n",
    "    'Logistic Regression': LogisticRegression(),\n",
    "    'Random Forest': RandomForestClassifier(),\n",
    "    'Gradient Boosting': GradientBoostingClassifier(),\n",
    "    'Decision Tree': DecisionTreeClassifier(),\n",
    "    'XGBoost': XGBClassifier(),\n",
    "    'CatBoost': CatBoostClassifier(verbose=0),\n",
    "    'LightGBM': LGBMClassifier()\n",
    "}"
   ]
  },
  {
   "cell_type": "code",
   "execution_count": 17,
   "metadata": {},
   "outputs": [],
   "source": [
    "model_list = []\n",
    "accu_score = []"
   ]
  },
  {
   "cell_type": "code",
   "execution_count": 20,
   "metadata": {},
   "outputs": [
    {
     "name": "stdout",
     "output_type": "stream",
     "text": [
      "Model: Logistic Regression\n",
      "Model perfomance for train set\n",
      "- Classification Report : \n",
      "               precision    recall  f1-score   support\n",
      "\n",
      "           0       0.82      0.96      0.89      6354\n",
      "           1       0.59      0.21      0.31      1646\n",
      "\n",
      "    accuracy                           0.81      8000\n",
      "   macro avg       0.71      0.59      0.60      8000\n",
      "weighted avg       0.78      0.81      0.77      8000\n",
      "\n",
      "- Confusion Matrix : [[6119  235]\n",
      " [1301  345]]\n",
      "- Accuracy Score : 0.808\n",
      "--------------------------------------------\n",
      "Model perfomance for test set\n",
      "- Classification Report :\n",
      "               precision    recall  f1-score   support\n",
      "\n",
      "           0       0.84      0.97      0.90      1609\n",
      "           1       0.61      0.22      0.32       391\n",
      "\n",
      "    accuracy                           0.82      2000\n",
      "   macro avg       0.72      0.59      0.61      2000\n",
      "weighted avg       0.79      0.82      0.78      2000\n",
      "\n",
      "- Confusion Matrix : [[1554   55]\n",
      " [ 305   86]]\n",
      "- Accuracy Score : 0.82\n",
      "===================================\n",
      "\n",
      "\n",
      "Model: Random Forest\n",
      "Model perfomance for train set\n",
      "- Classification Report : \n",
      "               precision    recall  f1-score   support\n",
      "\n",
      "           0       1.00      1.00      1.00      6354\n",
      "           1       1.00      1.00      1.00      1646\n",
      "\n",
      "    accuracy                           1.00      8000\n",
      "   macro avg       1.00      1.00      1.00      8000\n",
      "weighted avg       1.00      1.00      1.00      8000\n",
      "\n",
      "- Confusion Matrix : [[6354    0]\n",
      " [   0 1646]]\n",
      "- Accuracy Score : 1.0\n",
      "--------------------------------------------\n",
      "Model perfomance for test set\n",
      "- Classification Report :\n",
      "               precision    recall  f1-score   support\n",
      "\n",
      "           0       0.88      0.97      0.92      1609\n",
      "           1       0.77      0.47      0.59       391\n",
      "\n",
      "    accuracy                           0.87      2000\n",
      "   macro avg       0.83      0.72      0.76      2000\n",
      "weighted avg       0.86      0.87      0.86      2000\n",
      "\n",
      "- Confusion Matrix : [[1555   54]\n",
      " [ 206  185]]\n",
      "- Accuracy Score : 0.87\n",
      "===================================\n",
      "\n",
      "\n",
      "Model: Gradient Boosting\n",
      "Model perfomance for train set\n",
      "- Classification Report : \n",
      "               precision    recall  f1-score   support\n",
      "\n",
      "           0       0.88      0.97      0.92      6354\n",
      "           1       0.81      0.50      0.62      1646\n",
      "\n",
      "    accuracy                           0.87      8000\n",
      "   macro avg       0.85      0.73      0.77      8000\n",
      "weighted avg       0.87      0.87      0.86      8000\n",
      "\n",
      "- Confusion Matrix : [[6165  189]\n",
      " [ 824  822]]\n",
      "- Accuracy Score : 0.873375\n",
      "--------------------------------------------\n",
      "Model perfomance for test set\n",
      "- Classification Report :\n",
      "               precision    recall  f1-score   support\n",
      "\n",
      "           0       0.88      0.96      0.92      1609\n",
      "           1       0.76      0.48      0.59       391\n",
      "\n",
      "    accuracy                           0.87      2000\n",
      "   macro avg       0.82      0.72      0.75      2000\n",
      "weighted avg       0.86      0.87      0.86      2000\n",
      "\n",
      "- Confusion Matrix : [[1548   61]\n",
      " [ 203  188]]\n",
      "- Accuracy Score : 0.868\n",
      "===================================\n",
      "\n",
      "\n",
      "Model: Decision Tree\n",
      "Model perfomance for train set\n",
      "- Classification Report : \n",
      "               precision    recall  f1-score   support\n",
      "\n",
      "           0       1.00      1.00      1.00      6354\n",
      "           1       1.00      1.00      1.00      1646\n",
      "\n",
      "    accuracy                           1.00      8000\n",
      "   macro avg       1.00      1.00      1.00      8000\n",
      "weighted avg       1.00      1.00      1.00      8000\n",
      "\n",
      "- Confusion Matrix : [[6354    0]\n",
      " [   0 1646]]\n",
      "- Accuracy Score : 1.0\n",
      "--------------------------------------------\n",
      "Model perfomance for test set\n",
      "- Classification Report :\n",
      "               precision    recall  f1-score   support\n",
      "\n",
      "           0       0.88      0.88      0.88      1609\n",
      "           1       0.51      0.52      0.51       391\n",
      "\n",
      "    accuracy                           0.81      2000\n",
      "   macro avg       0.69      0.70      0.70      2000\n",
      "weighted avg       0.81      0.81      0.81      2000\n",
      "\n",
      "- Confusion Matrix : [[1412  197]\n",
      " [ 189  202]]\n",
      "- Accuracy Score : 0.807\n",
      "===================================\n",
      "\n",
      "\n",
      "Model: XGBoost\n",
      "Model perfomance for train set\n",
      "- Classification Report : \n",
      "               precision    recall  f1-score   support\n",
      "\n",
      "           0       0.96      0.99      0.98      6354\n",
      "           1       0.98      0.83      0.90      1646\n",
      "\n",
      "    accuracy                           0.96      8000\n",
      "   macro avg       0.97      0.91      0.94      8000\n",
      "weighted avg       0.96      0.96      0.96      8000\n",
      "\n",
      "- Confusion Matrix : [[6321   33]\n",
      " [ 285 1361]]\n",
      "- Accuracy Score : 0.96025\n",
      "--------------------------------------------\n",
      "Model perfomance for test set\n",
      "- Classification Report :\n",
      "               precision    recall  f1-score   support\n",
      "\n",
      "           0       0.88      0.95      0.92      1609\n",
      "           1       0.70      0.49      0.58       391\n",
      "\n",
      "    accuracy                           0.86      2000\n",
      "   macro avg       0.79      0.72      0.75      2000\n",
      "weighted avg       0.85      0.86      0.85      2000\n",
      "\n",
      "- Confusion Matrix : [[1525   84]\n",
      " [ 199  192]]\n",
      "- Accuracy Score : 0.8585\n",
      "===================================\n",
      "\n",
      "\n",
      "Model: CatBoost\n",
      "Model perfomance for train set\n",
      "- Classification Report : \n",
      "               precision    recall  f1-score   support\n",
      "\n",
      "           0       0.91      0.98      0.95      6354\n",
      "           1       0.91      0.64      0.75      1646\n",
      "\n",
      "    accuracy                           0.91      8000\n",
      "   macro avg       0.91      0.81      0.85      8000\n",
      "weighted avg       0.91      0.91      0.91      8000\n",
      "\n",
      "- Confusion Matrix : [[6252  102]\n",
      " [ 592 1054]]\n",
      "- Accuracy Score : 0.91325\n",
      "--------------------------------------------\n",
      "Model perfomance for test set\n",
      "- Classification Report :\n",
      "               precision    recall  f1-score   support\n",
      "\n",
      "           0       0.88      0.96      0.92      1609\n",
      "           1       0.75      0.48      0.58       391\n",
      "\n",
      "    accuracy                           0.87      2000\n",
      "   macro avg       0.81      0.72      0.75      2000\n",
      "weighted avg       0.86      0.87      0.85      2000\n",
      "\n",
      "- Confusion Matrix : [[1545   64]\n",
      " [ 204  187]]\n",
      "- Accuracy Score : 0.866\n",
      "===================================\n",
      "\n",
      "\n",
      "[LightGBM] [Info] Number of positive: 1646, number of negative: 6354\n",
      "[LightGBM] [Info] Auto-choosing row-wise multi-threading, the overhead of testing was 0.000061 seconds.\n",
      "You can set `force_row_wise=true` to remove the overhead.\n",
      "And if memory is not enough, you can set `force_col_wise=true`.\n",
      "[LightGBM] [Info] Total Bins 864\n",
      "[LightGBM] [Info] Number of data points in the train set: 8000, number of used features: 13\n",
      "[LightGBM] [Info] [binary:BoostFromScore]: pavg=0.205750 -> initscore=-1.350736\n",
      "[LightGBM] [Info] Start training from score -1.350736\n",
      "Model: LightGBM\n",
      "Model perfomance for train set\n",
      "- Classification Report : \n",
      "               precision    recall  f1-score   support\n",
      "\n",
      "           0       0.92      0.98      0.95      6354\n",
      "           1       0.91      0.65      0.76      1646\n",
      "\n",
      "    accuracy                           0.92      8000\n",
      "   macro avg       0.91      0.82      0.85      8000\n",
      "weighted avg       0.91      0.92      0.91      8000\n",
      "\n",
      "- Confusion Matrix : [[6244  110]\n",
      " [ 568 1078]]\n",
      "- Accuracy Score : 0.91525\n",
      "--------------------------------------------\n",
      "Model perfomance for test set\n",
      "- Classification Report :\n",
      "               precision    recall  f1-score   support\n",
      "\n",
      "           0       0.89      0.96      0.92      1609\n",
      "           1       0.73      0.50      0.59       391\n",
      "\n",
      "    accuracy                           0.87      2000\n",
      "   macro avg       0.81      0.73      0.76      2000\n",
      "weighted avg       0.86      0.87      0.86      2000\n",
      "\n",
      "- Confusion Matrix : [[1538   71]\n",
      " [ 196  195]]\n",
      "- Accuracy Score : 0.8665\n",
      "===================================\n",
      "\n",
      "\n"
     ]
    }
   ],
   "source": [
    "for i in range(len(list(models))):\n",
    "    model = list(models.values())[i]\n",
    "    model.fit(X_train, y_train)\n",
    "\n",
    "    y_pred_train = model.predict(X_train)\n",
    "    y_pred_test = model.predict(X_test)\n",
    "\n",
    "    # Evaluating the train and test set\n",
    "    model_cr_train, model_cm_train, model_acc_train = evaluate_model(y_train, y_pred_train)\n",
    "    model_cr_test, model_cm_test, model_acc_test = evaluate_model(y_test, y_pred_test)\n",
    "\n",
    "    model_name = list(models.keys())[i]\n",
    "    print(f\"Model: {model_name}\")\n",
    "    model_list.append(model_name)\n",
    "\n",
    "    print('Model perfomance for train set')\n",
    "    print(f'- Classification Report : \\n {model_cr_train}')\n",
    "    print(f'- Confusion Matrix : {model_cm_train}')\n",
    "    print(f'- Accuracy Score : {model_acc_train}')\n",
    "\n",
    "    print('--------------------------------------------')\n",
    "\n",
    "    print('Model perfomance for test set')\n",
    "    print(f'- Classification Report :\\n {model_cr_test}')\n",
    "    print(f'- Confusion Matrix : {model_cm_test}')\n",
    "    print(f'- Accuracy Score : {model_acc_test}')\n",
    "\n",
    "    accu_score.append(model_acc_test)\n",
    "\n",
    "    print('='*35)\n",
    "    print('\\n')"
   ]
  },
  {
   "cell_type": "markdown",
   "metadata": {},
   "source": [
    "## 2.2 Comparing Accuracy of Models"
   ]
  },
  {
   "cell_type": "code",
   "execution_count": 39,
   "metadata": {},
   "outputs": [],
   "source": [
    "import seaborn as sns\n",
    "import warnings"
   ]
  },
  {
   "cell_type": "code",
   "execution_count": 40,
   "metadata": {},
   "outputs": [],
   "source": [
    "warnings.filterwarnings('ignore')"
   ]
  },
  {
   "cell_type": "code",
   "execution_count": 44,
   "metadata": {},
   "outputs": [
    {
     "data": {
      "text/plain": [
       "[Text(0, 0, 'Random Forest'),\n",
       " Text(1, 0, 'Gradient Boosting'),\n",
       " Text(2, 0, 'LightGBM'),\n",
       " Text(3, 0, 'CatBoost'),\n",
       " Text(4, 0, 'XGBoost'),\n",
       " Text(5, 0, 'Logistic Regression'),\n",
       " Text(6, 0, 'Decision Tree')]"
      ]
     },
     "execution_count": 44,
     "metadata": {},
     "output_type": "execute_result"
    },
    {
     "data": {
      "image/png": "[encoded data removed]",
      "text/plain": [
       "<Figure size 640x480 with 1 Axes>"
      ]
     },
     "metadata": {},
     "output_type": "display_data"
    }
   ],
   "source": [
    "models_accuracies = pd.DataFrame(list(zip(model_list, accu_score)), columns=['Model', 'Accuracy']).sort_values(by='Accuracy', ascending=False)\n",
    "ax = sns.barplot(data=models_accuracies, x='Model', y='Accuracy',palette='magma')\n",
    "for bars in ax.containers:\n",
    "    ax.bar_label(bars, fmt='%.4f')\n",
    "ax.set_xticklabels(ax.get_xticklabels(), rotation=45, horizontalalignment='right')"
   ]
  },
  {
   "cell_type": "markdown",
   "metadata": {},
   "source": [
    "# Random Forest"
   ]
  },
  {
   "cell_type": "code",
   "execution_count": 30,
   "metadata": {},
   "outputs": [
    {
     "name": "stdout",
     "output_type": "stream",
     "text": [
      "Model Accuracy: 0.87\n"
     ]
    }
   ],
   "source": [
    "random_forest = RandomForestClassifier(max_depth=10, random_state=42)\n",
    "random_forest.fit(X_train, y_train)\n",
    "y_pred = random_forest.predict(X_test)\n",
    "score = random_forest.score(X_test, y_test)\n",
    "print(f\"Model Accuracy: {score}\")"
   ]
  }
 ],
 "metadata": {
  "kernelspec": {
   "display_name": "Python 3",
   "language": "python",
   "name": "python3"
  },
  "language_info": {
   "codemirror_mode": {
    "name": "ipython",
    "version": 3
   },
   "file_extension": ".py",
   "mimetype": "text/x-python",
   "name": "python",
   "nbconvert_exporter": "python",
   "pygments_lexer": "ipython3",
   "version": "3.12.0"
  }
 },
 "nbformat": 4,
 "nbformat_minor": 2
}
